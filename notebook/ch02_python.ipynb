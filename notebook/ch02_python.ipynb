{
  "nbformat": 4,
  "nbformat_minor": 0,
  "metadata": {
    "colab": {
      "provenance": [],
      "include_colab_link": true
    },
    "kernelspec": {
      "name": "python3",
      "display_name": "Python 3"
    },
    "language_info": {
      "name": "python"
    }
  },
  "cells": [
    {
      "cell_type": "markdown",
      "metadata": {
        "id": "view-in-github",
        "colab_type": "text"
      },
      "source": [
        "<a href=\"https://colab.research.google.com/github/kukichocollis/dle/blob/main/notebook/ch02_python.ipynb\" target=\"_parent\"><img src=\"https://colab.research.google.com/assets/colab-badge.svg\" alt=\"Open In Colab\"/></a>"
      ]
    },
    {
      "cell_type": "markdown",
      "source": [
        "# ch02_python.ipynb\n",
        "## dl00\n",
        "- 파이썬 복습"
      ],
      "metadata": {
        "id": "2y-K8HA9zedx"
      }
    },
    {
      "cell_type": "code",
      "execution_count": null,
      "metadata": {
        "id": "eU2GQ-_2y0on"
      },
      "outputs": [],
      "source": [
        "# cap02 - python basics\n",
        "#\n",
        "3.14 * 10 * 10 \n",
        "\n",
        "3.14 * 10**2\n"
      ]
    },
    {
      "cell_type": "code",
      "source": [
        "type(10)\n",
        "\n",
        "type(3.14)\n",
        "\n",
        "type(\"python\")\n"
      ],
      "metadata": {
        "id": "JKJzkv6T06qz"
      },
      "execution_count": null,
      "outputs": []
    },
    {
      "cell_type": "code",
      "source": [
        "r = 20\n",
        "\n",
        "PI = 3.14\t\t# 원주율 정의\n",
        "\n",
        "area = PI * r**2\n",
        "\n",
        "area\n"
      ],
      "metadata": {
        "id": "UnzRTOKQ09eZ"
      },
      "execution_count": null,
      "outputs": []
    },
    {
      "cell_type": "code",
      "source": [
        "# list\n",
        "lst = [ 10, 20, 30, 40, 50]\t\t# 리스트 정의\n",
        "\n",
        "lst\n"
      ],
      "metadata": {
        "colab": {
          "base_uri": "https://localhost:8080/"
        },
        "id": "tlsr0-0f0_3B",
        "outputId": "302a332a-9c6d-41ca-8080-27de2f0004cc"
      },
      "execution_count": null,
      "outputs": [
        {
          "output_type": "execute_result",
          "data": {
            "text/plain": [
              "[10, 20, 30, 40, 50]"
            ]
          },
          "metadata": {},
          "execution_count": 1
        }
      ]
    },
    {
      "cell_type": "code",
      "source": [
        "# indexing & slicing\n",
        "print(lst[2]) \t\t\t\t# 리스트의 요소 접근\n",
        "\n",
        "lst[2] = 90\t\t\t# 세 번째 요소를 90으로 변경\n",
        "\n",
        "print(lst)\n",
        "\n",
        "print(len(lst))\n",
        "\n",
        "lst, len(lst)"
      ],
      "metadata": {
        "colab": {
          "base_uri": "https://localhost:8080/"
        },
        "id": "2FEKqSHa1E0R",
        "outputId": "fbf818c1-b2d7-4265-d55a-7f3956a3dc31"
      },
      "execution_count": null,
      "outputs": [
        {
          "output_type": "stream",
          "name": "stdout",
          "text": [
            "90\n",
            "[10, 20, 90, 40, 50]\n",
            "5\n"
          ]
        },
        {
          "output_type": "execute_result",
          "data": {
            "text/plain": [
              "([10, 20, 90, 40, 50], 5)"
            ]
          },
          "metadata": {},
          "execution_count": 3
        }
      ]
    },
    {
      "cell_type": "code",
      "source": [
        "# Slicing\n",
        "lst[0:3]\n",
        "\n",
        "lst[2:]\t\n",
        "\n",
        "lst[:3]\n",
        "\n",
        "lst[:-1]\n"
      ],
      "metadata": {
        "id": "c8bxvdzl1Rch"
      },
      "execution_count": null,
      "outputs": []
    },
    {
      "cell_type": "code",
      "source": [
        "# dictionary\n",
        "car = { 'HP':200, 'make': \"BNW\" }\t# 딕셔너리 정의\n",
        "\n",
        "print(car['HP'])\n",
        "\n",
        "car['color'] = \"white\"\n",
        "\n",
        "car\n"
      ],
      "metadata": {
        "colab": {
          "base_uri": "https://localhost:8080/"
        },
        "id": "72KpNWLJ2FQR",
        "outputId": "0747197d-4711-4833-b4cc-533549ed8a7a"
      },
      "execution_count": null,
      "outputs": [
        {
          "output_type": "stream",
          "name": "stdout",
          "text": [
            "200\n"
          ]
        },
        {
          "output_type": "execute_result",
          "data": {
            "text/plain": [
              "{'HP': 200, 'make': 'BNW', 'color': 'white'}"
            ]
          },
          "metadata": {},
          "execution_count": 8
        }
      ]
    },
    {
      "cell_type": "code",
      "source": [
        "car['color'] = \"white\"\n",
        "car"
      ],
      "metadata": {
        "colab": {
          "base_uri": "https://localhost:8080/"
        },
        "id": "lUZlCpGC2h95",
        "outputId": "0b7f2395-20cb-412d-b3ef-626dbb0a4272"
      },
      "execution_count": null,
      "outputs": [
        {
          "output_type": "execute_result",
          "data": {
            "text/plain": [
              "{'HP': 200, 'make': 'BNW', 'color': 'white'}"
            ]
          },
          "metadata": {},
          "execution_count": 10
        }
      ]
    },
    {
      "cell_type": "code",
      "source": [
        "# Conditional\n",
        "temp = -10\n",
        "\n",
        "if temp < 0 :\n",
        "    print(\"영하입니다.\")\t\n",
        "else:\n",
        "    print(\"영상입니다.\")\n"
      ],
      "metadata": {
        "colab": {
          "base_uri": "https://localhost:8080/"
        },
        "id": "9zMk_SZI2HO4",
        "outputId": "4bfdf3c0-ddf5-4824-9ead-199f460326bf"
      },
      "execution_count": null,
      "outputs": [
        {
          "output_type": "stream",
          "name": "stdout",
          "text": [
            "영하입니다.\n"
          ]
        }
      ]
    },
    {
      "cell_type": "code",
      "source": [
        "# loop\n",
        "for i in [1, 2, 3, 4, 5] :\n",
        "    print(i, end=\" \")\n"
      ],
      "metadata": {
        "colab": {
          "base_uri": "https://localhost:8080/"
        },
        "id": "3gtrrLPx2JDo",
        "outputId": "a8708128-6258-4915-ad3b-90fbfd954ff3"
      },
      "execution_count": null,
      "outputs": [
        {
          "output_type": "stream",
          "name": "stdout",
          "text": [
            "1 2 3 4 5 "
          ]
        }
      ]
    },
    {
      "cell_type": "code",
      "source": [
        "# functio\n",
        "def sayHello():\n",
        "    print(\"Hello!\")\n",
        "\n",
        "sayHello()\n"
      ],
      "metadata": {
        "colab": {
          "base_uri": "https://localhost:8080/"
        },
        "id": "k4BLa4RG2Kvp",
        "outputId": "e2a4114a-c2c4-4dd8-e46e-bea824b70875"
      },
      "execution_count": null,
      "outputs": [
        {
          "output_type": "stream",
          "name": "stdout",
          "text": [
            "Hello!\n"
          ]
        }
      ]
    },
    {
      "cell_type": "code",
      "source": [
        "# class\n",
        "class Person:\n",
        "  def __init__(self, name, age):\n",
        "    self.name = name\n",
        "    self.age = age\n",
        "\n",
        "  def sayHello(self):\n",
        "    print(\"Hello 나의 이름은 \" + self.name + \" 나이는 \" + str(self.age))\n",
        "\n",
        "p1 = Person(\"John\", 36)\n",
        "p1.sayHello()\n",
        "\n",
        "# [DIY] 이름과 나이를 다 출력하게 코드를 변경하시오.\n",
        "#################################################"
      ],
      "metadata": {
        "id": "EQMMvfKF2ND4"
      },
      "execution_count": null,
      "outputs": []
    }
  ]
}