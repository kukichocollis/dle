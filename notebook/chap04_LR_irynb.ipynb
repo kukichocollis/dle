{
  "cells": [
    {
      "cell_type": "markdown",
      "metadata": {
        "id": "view-in-github",
        "colab_type": "text"
      },
      "source": [
        "<a href=\"https://colab.research.google.com/github/kukichocollis/dle/blob/main/notebook/chap04_LR_irynb.ipynb\" target=\"_parent\"><img src=\"https://colab.research.google.com/assets/colab-badge.svg\" alt=\"Open In Colab\"/></a>"
      ]
    },
    {
      "cell_type": "markdown",
      "source": [
        "## 선형회기\n",
        "- numpy 이용\n",
        "- sklearn 이용"
      ],
      "metadata": {
        "id": "ghSEExHTE5ET"
      }
    },
    {
      "cell_type": "code",
      "source": [
        "import numpy as np\n",
        "import matplotlib.pyplot as plt\n",
        "\n",
        "X = np.array([0.0, 1.0, 2.0])\n",
        "y = np.array([3.0, 3.5, 5.5])\n",
        "\n",
        "# 파라미터 초기화\n",
        "w = 0       # 기울기\n",
        "b = 0       # 절편\n",
        "\n",
        "lrate = 0.01  # 학습률\n",
        "epochs = 1000  # 반복 횟수\n",
        "\n",
        "n = float(len(X)) # 입력 데이터의 개수\n",
        "\n",
        "# 경사 하강법\n",
        "for i in range(epochs): \n",
        "    y_pred = w*X + b  \t\t\t# 선형 회귀 예측값\n",
        "    dw = (2/n) * sum(X * (y_pred-y)) \t# 넘파이 배열간의 산술 계산은 요소별로 적용\n",
        "    db = (2/n) * sum(y_pred-y)  \t# sum()은 모든 요소들의 합을 계산하는 내장 함수\n",
        "    w = w - lrate * dw  \t\t# 기울기 수정\n",
        "    b = b - lrate * db  \t\t# 절편 수정\n",
        "    \n",
        "# 기울기와 절편을 출력한다. \n",
        "print (w, b)\n",
        "\n",
        "# 예측값을 만든다.\n",
        "y_pred = w*X + b\n",
        "\n",
        "# 입력 데이터를 그래프 상에 찍는다. \n",
        "plt.scatter(X, y) \n",
        "\n",
        "# 예측값은 선그래프로 그린다. \n",
        "plt.plot([min(X), max(X)], [min(y_pred), max(y_pred)], color='red')\n",
        "plt.show()"
      ],
      "metadata": {
        "id": "8Vgo7KtHE1Ij",
        "outputId": "36886f4d-1b4d-4a95-ebd9-f5d7c1f42804",
        "colab": {
          "base_uri": "https://localhost:8080/",
          "height": 283
        }
      },
      "execution_count": null,
      "outputs": [
        {
          "output_type": "stream",
          "name": "stdout",
          "text": [
            "1.2532418085611319 2.745502230882486\n"
          ]
        },
        {
          "output_type": "display_data",
          "data": {
            "text/plain": [
              "<Figure size 432x288 with 1 Axes>"
            ],
            "image/png": "[encoded data removed]"
          },
          "metadata": {
            "needs_background": "light"
          }
        }
      ]
    },
    {
      "cell_type": "markdown",
      "source": [
        "### sklearn\n",
        "- LinearRegression()"
      ],
      "metadata": {
        "id": "sZmnLuv_HSKv"
      }
    },
    {
      "cell_type": "code",
      "source": [
        "import matplotlib.pylab as plt\n",
        "from sklearn import linear_model\n",
        "\n",
        "# 선형 회귀 모델을 생성한다. \n",
        "reg = linear_model.LinearRegression()\n",
        "\n",
        "# 데이터는 파이썬의 리스트로 만들어도 되고 아니면 넘파이의 배열로 만들어도 됨\n",
        "X = [[0], [1], [2]]\t\t# 반드시 2차원으로 만들어야 함\n",
        "y = [3, 3.5, 5.5]\t\t# y = x + 3\n",
        "\n",
        "# 학습을 시킨다. \n",
        "reg.fit(X, y)\t\n",
        "\n",
        "print(reg.coef_)\t\t# 직선의 기울기\n",
        "print(reg.intercept_) \t# 직선의 y-절편 \n",
        "print(reg.score(X, y))\n",
        "\n",
        "print(reg.predict([[5]]))\n",
        "\n",
        "# 학습 데이터와 y 값을 산포도로 그린다. \n",
        "plt.scatter(X, y, color='black')\n",
        "\n",
        "# 학습 데이터를 입력으로 하여 예측값을 계산한다.\n",
        "y_pred = reg.predict(X)\n",
        "\n",
        "# 학습 데이터와 예측값으로 선그래프로 그린다. \n",
        "# 계산된 기울기와 y 절편을 가지는 직선이 그려진다. \n",
        "plt.plot(X, y_pred, color='blue', linewidth=3)\t\t\n",
        "plt.show()\n"
      ],
      "metadata": {
        "colab": {
          "base_uri": "https://localhost:8080/",
          "height": 338
        },
        "id": "4ZILD3LxHd_2",
        "outputId": "b07c02dd-332b-4a0a-acd2-f0e3a80d3f17"
      },
      "execution_count": 1,
      "outputs": [
        {
          "output_type": "stream",
          "name": "stdout",
          "text": [
            "[1.25]\n",
            "2.7500000000000004\n",
            "0.8928571428571429\n",
            "[9.]\n"
          ]
        },
        {
          "output_type": "display_data",
          "data": {
            "text/plain": [
              "<Figure size 432x288 with 1 Axes>"
            ],
            "image/png": "[encoded data removed]"
          },
          "metadata": {
            "needs_background": "light"
          }
        }
      ]
    },
    {
      "cell_type": "markdown",
      "source": [
        "### 선형회기\n",
        "- 키와 몸무게 관계 모델"
      ],
      "metadata": {
        "id": "5H6B3NX5LbmF"
      }
    },
    {
      "cell_type": "code",
      "source": [
        "import matplotlib.pylab as plt\n",
        "from sklearn import linear_model\n",
        "\n",
        "reg = linear_model.LinearRegression()\n",
        "\n",
        "X = [[174], [152], [138], [128], [186]]\t\t\n",
        "y = [71, 55, 46, 38, 88]\t\n",
        "\n",
        "reg.fit(X, y)\t\t\t# 학습\n",
        "# 평가\n",
        "print(reg.score(X, y))\n",
        "# 에측\n",
        "print(reg.predict([[165]]))\n",
        "\n",
        "# 학습 데이터를 입력으로 하여 예측값을 계산한다.\n",
        "y_pred = reg.predict(X)\n",
        "\n",
        "# 학습 데이터와 y 값을 산포도로 그린다. \n",
        "plt.scatter(X, y, color='black')\n",
        "# 학습 데이터와 예측값으로 선그래프로 그린다. \n",
        "# 계산된 기울기와 y 절편을 가지는 직선이 그려진다. \n",
        "plt.plot(X, y_pred, color='blue', linewidth=3)\t\t\n",
        "plt.show()"
      ],
      "metadata": {
        "colab": {
          "base_uri": "https://localhost:8080/",
          "height": 304
        },
        "id": "urAzDHJyLuj7",
        "outputId": "1f421d19-3917-4ef5-e1d1-c9e9ed40e6d2"
      },
      "execution_count": 2,
      "outputs": [
        {
          "output_type": "stream",
          "name": "stdout",
          "text": [
            "0.9812769231994423\n",
            "[67.30998637]\n"
          ]
        },
        {
          "output_type": "display_data",
          "data": {
            "text/plain": [
              "<Figure size 432x288 with 1 Axes>"
            ],
            "image/png": "[encoded data removed]"
          },
          "metadata": {
            "needs_background": "light"
          }
        }
      ]
    },
    {
      "cell_type": "markdown",
      "source": [
        "### 당뇨병 데이터의 선형회기 모델"
      ],
      "metadata": {
        "id": "Vd0Rab3CN8lq"
      }
    },
    {
      "cell_type": "code",
      "source": [
        "import matplotlib.pylab as plt\n",
        "import numpy as np\n",
        "# from sklearn.linear_model import LinearRegression\n",
        "from sklearn import datasets, linear_model\n",
        "\n",
        "# 당뇨병 데이터 세트를 적재한다. \n",
        "diabetes = datasets.load_diabetes()\n",
        "str(diabetes)\n",
        "print(diabetes.keys())\n",
        "str(diabetes.DESCR)\n",
        "\n",
        "##########################################\n",
        "diabetes_X, diabetes_y = datasets.load_diabetes(return_X_y=True)\n",
        "str(diabetes_X)\n",
        "str(diabetes_y)\n",
        "print(diabetes_X.data.shape, diabetes_y.data.shape)\n",
        "##########################################\n",
        "# 하나의 특징(BMI)만 추려내서 2차원 배열로 만든다. BMI 특징의 인덱스가 2이다.\n",
        "diabetes_X_new = diabetes_X[:, np.newaxis, 2]\n",
        "print(diabetes_X_new.data.shape )\n",
        "\n",
        "# 학습 데이터와 테스트 데이터를 분리한다. \n",
        "from sklearn.model_selection import train_test_split\n",
        "X_train, X_test, y_train, y_test = train_test_split(diabetes_X_new, diabetes_y, test_size=0.1, random_state=0)\n",
        "\n",
        "regr = linear_model.LinearRegression()\n",
        "regr.fit(X_train, y_train)\n",
        "# regression coeff.s & score\n",
        "regr.coef_, regr.intercept_\n",
        "print(regr.score(X_train, y_train))\n",
        "\n",
        "# 테스트 데이터로 예측해보자. \n",
        "y_pred = regr.predict(X_test) \n",
        "from sklearn import metrics\n",
        "scores = metrics.r2_score(y_test, y_pred)  # r2_score for regression\n",
        "print(scores)\n",
        "\n",
        "# 실제 데이터와 예측 데이터를 비교해보자. \n",
        "# plt.plot(y_test, y_pred, '.')\n",
        "\n",
        "plt.scatter(X_test, y_test,  color='black')\n",
        "plt.plot(X_test, y_pred, color='blue', linewidth=3)\n",
        "plt.title(f\"Test data: R2 = {np.round(scores,3)}\")\n",
        "plt.show()\n",
        "\n",
        "#\n",
        "# pandas\n",
        "#\n",
        "########################################\n",
        "# 당뇨병 데이터 구조 => DataFrame\n",
        "# Attribute Information:\n",
        "#     - age     age in years\n",
        "#     - sex\n",
        "#     - bmi     body mass index\n",
        "#     - bp      average blood pressure\n",
        "#     - s1      tc, T-Cells (a type of white blood cells)\n",
        "#     - s2      ldl, low-density lipoproteins\n",
        "#     - s3      hdl, high-density lipoproteins\n",
        "#     - s4      tch, thyroid stimulating hormone\n",
        "#     - s5      ltg, lamotrigine\n",
        "#     - s6      glu, blood sugar level\n",
        "# - target  a quantitative measure of disease progression one year after baseline\n",
        "# [참고] https://wikidocs.net/49981\n",
        "#       https://suhyun72.tistory.com/entry/%EC%82%AC%EC%9D%B4%ED%82%B7%EB%9F%B0-scikit-learnsklearn-diabetes\n",
        "#\n",
        "########################################\n",
        "df0 = datasets.load_diabetes(as_frame=True)\n",
        "df0\n",
        "type(df0)\n",
        "df0.keys()\n",
        "print(df0.DESCR)\n",
        "df0.frame.shape\n",
        "df0.frame.head()\n",
        "# Make dataframe from data bunch\n",
        "df=df0.frame\n",
        "df.shape\n",
        "df.info()\n",
        "df.head()\n",
        "df.columns\n",
        "# ['age', 'sex', 'bmi', 'bp', 's1', 's2', 's3', 's4', 's5', 's6','target']\n",
        "df[['bmi']].plot()\n",
        "df[['bp']].plot()\n",
        "# plt.show()\n",
        "# 혈당치(glucose)와 target (당뇨병 진행도)\n",
        "df[['s6']].plot()\n",
        "df[['target']].plot()\n",
        "plt.show()\n",
        "\n",
        "# multiple plot\n",
        "df[['bmi','bp','s6','target']].plot()\n",
        "# df[['bmi','bp','s6']].plot()\n",
        "plt.show()\n",
        "\n",
        "# X and y\n",
        "# 하나의 특징(s6: 혈당치)만 추려내서 2차원 배열로 만든다. BMI 특징의 인덱스가 2이다.\n",
        "diabetes_X_new2=df.s6.values \n",
        "diabetes_X_new2=diabetes_X_new2[:,np.newaxis]\n",
        "diabetes_X_new2.shape, diabetes_y.shape\n",
        "\n",
        "X_train, X_test, y_train, y_test = train_test_split(diabetes_X_new2, diabetes_y, test_size=0.1, random_state=0)\n",
        "X_train.shape\n",
        "regr2 = linear_model.LinearRegression()\n",
        "regr2.fit(X_train, y_train)\n",
        "# regression coeff.s & score\n",
        "regr2.coef_, regr2.intercept_\n",
        "print(regr2.score(X_train, y_train))\n",
        "\n",
        "# 테스트 데이터로 예측해보자. \n",
        "y_pred = regr2.predict(X_test) \n",
        "\n",
        "# 실제 데이터와 예측 데이터를 비교해보자. \n",
        "# plt.plot(y_test, y_pred, '.')\n",
        "\n",
        "plt.scatter(X_test, y_test,  color='black')\n",
        "plt.plot(X_test, y_pred, 'r', linewidth=3)\n",
        "plt.show()\n",
        "\n",
        "#\n",
        "# 상관도표 (correlation) : df.corr()\n",
        "#\n",
        "import seaborn as sns\n",
        "sns.heatmap(df.corr(), \n",
        "        xticklabels=df.columns,\n",
        "        yticklabels=df.columns,\n",
        "        vmin= -1, vmax=1.0) #, cmap='coolwarm')\n",
        "plt.show()\n",
        "\n",
        "sns.pairplot(df)\n",
        "plt.show()\n",
        "\n",
        "# s5(lamotrigine )와 target (당뇨병 진행도)\n",
        "df[['s5']].plot()\n",
        "df[['target']].plot()\n",
        "\n",
        "sns.pairplot(df[['s5','target']])\n",
        "plt.show()\n",
        "# X and y\n",
        "# 하나의 특징(s5: lamotrigine)만 추려내서 2차원 배열로 만든다. BMI 특징의 인덱스가 2이다.\n",
        "\n",
        "diabetes_X_new3=df.s5.values \n",
        "diabetes_X_new3=diabetes_X_new3[:,np.newaxis]\n",
        "diabetes_X_new3.shape, diabetes_y.shape\n",
        "\n",
        "X_train, X_test, y_train, y_test = train_test_split(diabetes_X_new3, diabetes_y, test_size=0.1, random_state=0)\n",
        "X_train.shape\n",
        "regr3 = linear_model.LinearRegression()\n",
        "regr3.fit(X_train, y_train)\n",
        "\n",
        "# 테스트 데이터로 예측해보자. \n",
        "y_pred = regr3.predict(X_test) \n",
        "\n",
        "# 실제 데이터와 예측 데이터를 비교해보자. \n",
        "# plt.plot(y_test, y_pred, '.')\n",
        "\n",
        "plt.scatter(X_test, y_test,  color='black')\n",
        "plt.plot(X_test, y_pred, 'r', linewidth=3)\n",
        "plt.show()\n",
        "\n",
        "# regression coeff.s & score\n",
        "regr3.coef_,regr3.intercept_\n",
        "print(regr3.score(X_train, y_train))\n",
        "\n",
        "##################################\n",
        "# 비교 : bmi, s6, s5\n",
        "##################################\n",
        "print(regr.score(X_train, y_train))\n",
        "print(regr2.score(X_train, y_train))\n",
        "print(regr3.score(X_train, y_train))\n",
        "\n",
        "sns.pairplot(df[['bmi','s5','s6','target']])\n",
        "plt.show()\n",
        "#\n",
        "# {DIY} bp vs. target\n",
        "#\n"
      ],
      "metadata": {
        "id": "BFJPBi3OOB0j"
      },
      "execution_count": null,
      "outputs": []
    }
  ],
  "metadata": {
    "colab": {
      "toc_visible": true,
      "provenance": [],
      "include_colab_link": true
    },
    "kernelspec": {
      "display_name": "Python 3",
      "name": "python3"
    }
  },
  "nbformat": 4,
  "nbformat_minor": 0
}